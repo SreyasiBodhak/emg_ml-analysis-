{
 "cells": [
  {
   "cell_type": "code",
   "execution_count": 1,
   "metadata": {},
   "outputs": [],
   "source": [
    "import pandas as pd"
   ]
  },
  {
   "cell_type": "code",
   "execution_count": 2,
   "metadata": {},
   "outputs": [
    {
     "data": {
      "text/html": [
       "<div>\n",
       "<style scoped>\n",
       "    .dataframe tbody tr th:only-of-type {\n",
       "        vertical-align: middle;\n",
       "    }\n",
       "\n",
       "    .dataframe tbody tr th {\n",
       "        vertical-align: top;\n",
       "    }\n",
       "\n",
       "    .dataframe thead th {\n",
       "        text-align: right;\n",
       "    }\n",
       "</style>\n",
       "<table border=\"1\" class=\"dataframe\">\n",
       "  <thead>\n",
       "    <tr style=\"text-align: right;\">\n",
       "      <th></th>\n",
       "      <th>emg1</th>\n",
       "      <th>emg2</th>\n",
       "      <th>emg3</th>\n",
       "      <th>emg4</th>\n",
       "      <th>emg5</th>\n",
       "      <th>output</th>\n",
       "    </tr>\n",
       "  </thead>\n",
       "  <tbody>\n",
       "    <tr>\n",
       "      <th>0</th>\n",
       "      <td>152</td>\n",
       "      <td>152</td>\n",
       "      <td>150</td>\n",
       "      <td>150</td>\n",
       "      <td>150</td>\n",
       "      <td>allclose</td>\n",
       "    </tr>\n",
       "    <tr>\n",
       "      <th>1</th>\n",
       "      <td>148</td>\n",
       "      <td>148</td>\n",
       "      <td>146</td>\n",
       "      <td>146</td>\n",
       "      <td>144</td>\n",
       "      <td>allclose</td>\n",
       "    </tr>\n",
       "    <tr>\n",
       "      <th>2</th>\n",
       "      <td>142</td>\n",
       "      <td>140</td>\n",
       "      <td>140</td>\n",
       "      <td>138</td>\n",
       "      <td>136</td>\n",
       "      <td>allclose</td>\n",
       "    </tr>\n",
       "    <tr>\n",
       "      <th>3</th>\n",
       "      <td>136</td>\n",
       "      <td>136</td>\n",
       "      <td>134</td>\n",
       "      <td>132</td>\n",
       "      <td>132</td>\n",
       "      <td>allclose</td>\n",
       "    </tr>\n",
       "    <tr>\n",
       "      <th>4</th>\n",
       "      <td>128</td>\n",
       "      <td>128</td>\n",
       "      <td>128</td>\n",
       "      <td>128</td>\n",
       "      <td>128</td>\n",
       "      <td>allclose</td>\n",
       "    </tr>\n",
       "    <tr>\n",
       "      <th>...</th>\n",
       "      <td>...</td>\n",
       "      <td>...</td>\n",
       "      <td>...</td>\n",
       "      <td>...</td>\n",
       "      <td>...</td>\n",
       "      <td>...</td>\n",
       "    </tr>\n",
       "    <tr>\n",
       "      <th>2994</th>\n",
       "      <td>24</td>\n",
       "      <td>24</td>\n",
       "      <td>24</td>\n",
       "      <td>24</td>\n",
       "      <td>24</td>\n",
       "      <td>pinky_close</td>\n",
       "    </tr>\n",
       "    <tr>\n",
       "      <th>2995</th>\n",
       "      <td>24</td>\n",
       "      <td>24</td>\n",
       "      <td>24</td>\n",
       "      <td>24</td>\n",
       "      <td>24</td>\n",
       "      <td>pinky_close</td>\n",
       "    </tr>\n",
       "    <tr>\n",
       "      <th>2996</th>\n",
       "      <td>24</td>\n",
       "      <td>24</td>\n",
       "      <td>24</td>\n",
       "      <td>24</td>\n",
       "      <td>24</td>\n",
       "      <td>pinky_close</td>\n",
       "    </tr>\n",
       "    <tr>\n",
       "      <th>2997</th>\n",
       "      <td>24</td>\n",
       "      <td>24</td>\n",
       "      <td>24</td>\n",
       "      <td>24</td>\n",
       "      <td>24</td>\n",
       "      <td>pinky_close</td>\n",
       "    </tr>\n",
       "    <tr>\n",
       "      <th>2998</th>\n",
       "      <td>24</td>\n",
       "      <td>24</td>\n",
       "      <td>24</td>\n",
       "      <td>24</td>\n",
       "      <td>24</td>\n",
       "      <td>pinky_close</td>\n",
       "    </tr>\n",
       "  </tbody>\n",
       "</table>\n",
       "<p>2999 rows × 6 columns</p>\n",
       "</div>"
      ],
      "text/plain": [
       "      emg1  emg2  emg3  emg4  emg5       output\n",
       "0      152   152   150   150   150     allclose\n",
       "1      148   148   146   146   144     allclose\n",
       "2      142   140   140   138   136     allclose\n",
       "3      136   136   134   132   132     allclose\n",
       "4      128   128   128   128   128     allclose\n",
       "...    ...   ...   ...   ...   ...          ...\n",
       "2994    24    24    24    24    24  pinky_close\n",
       "2995    24    24    24    24    24  pinky_close\n",
       "2996    24    24    24    24    24  pinky_close\n",
       "2997    24    24    24    24    24  pinky_close\n",
       "2998    24    24    24    24    24  pinky_close\n",
       "\n",
       "[2999 rows x 6 columns]"
      ]
     },
     "execution_count": 2,
     "metadata": {},
     "output_type": "execute_result"
    }
   ],
   "source": [
    "data = pd.read_excel(r\"D:\\ML\\emg_dataset.xlsx\")\n",
    "data"
   ]
  },
  {
   "cell_type": "code",
   "execution_count": 5,
   "metadata": {},
   "outputs": [],
   "source": [
    "X=data.iloc[:,[0,1,2,3,4]].values"
   ]
  },
  {
   "cell_type": "code",
   "execution_count": 6,
   "metadata": {},
   "outputs": [
    {
     "data": {
      "text/plain": [
       "array([[152, 152, 150, 150, 150],\n",
       "       [148, 148, 146, 146, 144],\n",
       "       [142, 140, 140, 138, 136],\n",
       "       ...,\n",
       "       [ 24,  24,  24,  24,  24],\n",
       "       [ 24,  24,  24,  24,  24],\n",
       "       [ 24,  24,  24,  24,  24]], dtype=int64)"
      ]
     },
     "execution_count": 6,
     "metadata": {},
     "output_type": "execute_result"
    }
   ],
   "source": [
    "X"
   ]
  },
  {
   "cell_type": "code",
   "execution_count": 7,
   "metadata": {},
   "outputs": [
    {
     "data": {
      "text/plain": [
       "array(['allclose', 'allclose', 'allclose', ..., 'pinky_close',\n",
       "       'pinky_close', 'pinky_close'], dtype=object)"
      ]
     },
     "execution_count": 7,
     "metadata": {},
     "output_type": "execute_result"
    }
   ],
   "source": [
    "y=data.iloc[:,-1].values\n",
    "y"
   ]
  },
  {
   "cell_type": "code",
   "execution_count": 10,
   "metadata": {},
   "outputs": [
    {
     "data": {
      "text/plain": [
       "array([0, 0, 0, ..., 4, 4, 4])"
      ]
     },
     "execution_count": 10,
     "metadata": {},
     "output_type": "execute_result"
    }
   ],
   "source": [
    "from sklearn.preprocessing import LabelEncoder\n",
    "le=LabelEncoder()\n",
    "le.fit_transform(y[:])"
   ]
  },
  {
   "cell_type": "code",
   "execution_count": 11,
   "metadata": {},
   "outputs": [],
   "source": [
    "from sklearn.model_selection import train_test_split"
   ]
  },
  {
   "cell_type": "code",
   "execution_count": 15,
   "metadata": {},
   "outputs": [],
   "source": [
    "X_train,X_test,y_train,y_test=train_test_split(X,y,test_size=0.2)"
   ]
  },
  {
   "cell_type": "code",
   "execution_count": 16,
   "metadata": {},
   "outputs": [],
   "source": [
    "from sklearn.naive_bayes import GaussianNB"
   ]
  },
  {
   "cell_type": "code",
   "execution_count": 17,
   "metadata": {},
   "outputs": [],
   "source": [
    "model=GaussianNB()"
   ]
  },
  {
   "cell_type": "code",
   "execution_count": 18,
   "metadata": {},
   "outputs": [
    {
     "data": {
      "text/html": [
       "<style>#sk-container-id-1 {color: black;}#sk-container-id-1 pre{padding: 0;}#sk-container-id-1 div.sk-toggleable {background-color: white;}#sk-container-id-1 label.sk-toggleable__label {cursor: pointer;display: block;width: 100%;margin-bottom: 0;padding: 0.3em;box-sizing: border-box;text-align: center;}#sk-container-id-1 label.sk-toggleable__label-arrow:before {content: \"▸\";float: left;margin-right: 0.25em;color: #696969;}#sk-container-id-1 label.sk-toggleable__label-arrow:hover:before {color: black;}#sk-container-id-1 div.sk-estimator:hover label.sk-toggleable__label-arrow:before {color: black;}#sk-container-id-1 div.sk-toggleable__content {max-height: 0;max-width: 0;overflow: hidden;text-align: left;background-color: #f0f8ff;}#sk-container-id-1 div.sk-toggleable__content pre {margin: 0.2em;color: black;border-radius: 0.25em;background-color: #f0f8ff;}#sk-container-id-1 input.sk-toggleable__control:checked~div.sk-toggleable__content {max-height: 200px;max-width: 100%;overflow: auto;}#sk-container-id-1 input.sk-toggleable__control:checked~label.sk-toggleable__label-arrow:before {content: \"▾\";}#sk-container-id-1 div.sk-estimator input.sk-toggleable__control:checked~label.sk-toggleable__label {background-color: #d4ebff;}#sk-container-id-1 div.sk-label input.sk-toggleable__control:checked~label.sk-toggleable__label {background-color: #d4ebff;}#sk-container-id-1 input.sk-hidden--visually {border: 0;clip: rect(1px 1px 1px 1px);clip: rect(1px, 1px, 1px, 1px);height: 1px;margin: -1px;overflow: hidden;padding: 0;position: absolute;width: 1px;}#sk-container-id-1 div.sk-estimator {font-family: monospace;background-color: #f0f8ff;border: 1px dotted black;border-radius: 0.25em;box-sizing: border-box;margin-bottom: 0.5em;}#sk-container-id-1 div.sk-estimator:hover {background-color: #d4ebff;}#sk-container-id-1 div.sk-parallel-item::after {content: \"\";width: 100%;border-bottom: 1px solid gray;flex-grow: 1;}#sk-container-id-1 div.sk-label:hover label.sk-toggleable__label {background-color: #d4ebff;}#sk-container-id-1 div.sk-serial::before {content: \"\";position: absolute;border-left: 1px solid gray;box-sizing: border-box;top: 0;bottom: 0;left: 50%;z-index: 0;}#sk-container-id-1 div.sk-serial {display: flex;flex-direction: column;align-items: center;background-color: white;padding-right: 0.2em;padding-left: 0.2em;position: relative;}#sk-container-id-1 div.sk-item {position: relative;z-index: 1;}#sk-container-id-1 div.sk-parallel {display: flex;align-items: stretch;justify-content: center;background-color: white;position: relative;}#sk-container-id-1 div.sk-item::before, #sk-container-id-1 div.sk-parallel-item::before {content: \"\";position: absolute;border-left: 1px solid gray;box-sizing: border-box;top: 0;bottom: 0;left: 50%;z-index: -1;}#sk-container-id-1 div.sk-parallel-item {display: flex;flex-direction: column;z-index: 1;position: relative;background-color: white;}#sk-container-id-1 div.sk-parallel-item:first-child::after {align-self: flex-end;width: 50%;}#sk-container-id-1 div.sk-parallel-item:last-child::after {align-self: flex-start;width: 50%;}#sk-container-id-1 div.sk-parallel-item:only-child::after {width: 0;}#sk-container-id-1 div.sk-dashed-wrapped {border: 1px dashed gray;margin: 0 0.4em 0.5em 0.4em;box-sizing: border-box;padding-bottom: 0.4em;background-color: white;}#sk-container-id-1 div.sk-label label {font-family: monospace;font-weight: bold;display: inline-block;line-height: 1.2em;}#sk-container-id-1 div.sk-label-container {text-align: center;}#sk-container-id-1 div.sk-container {/* jupyter's `normalize.less` sets `[hidden] { display: none; }` but bootstrap.min.css set `[hidden] { display: none !important; }` so we also need the `!important` here to be able to override the default hidden behavior on the sphinx rendered scikit-learn.org. See: https://github.com/scikit-learn/scikit-learn/issues/21755 */display: inline-block !important;position: relative;}#sk-container-id-1 div.sk-text-repr-fallback {display: none;}</style><div id=\"sk-container-id-1\" class=\"sk-top-container\"><div class=\"sk-text-repr-fallback\"><pre>GaussianNB()</pre><b>In a Jupyter environment, please rerun this cell to show the HTML representation or trust the notebook. <br />On GitHub, the HTML representation is unable to render, please try loading this page with nbviewer.org.</b></div><div class=\"sk-container\" hidden><div class=\"sk-item\"><div class=\"sk-estimator sk-toggleable\"><input class=\"sk-toggleable__control sk-hidden--visually\" id=\"sk-estimator-id-1\" type=\"checkbox\" checked><label for=\"sk-estimator-id-1\" class=\"sk-toggleable__label sk-toggleable__label-arrow\">GaussianNB</label><div class=\"sk-toggleable__content\"><pre>GaussianNB()</pre></div></div></div></div></div>"
      ],
      "text/plain": [
       "GaussianNB()"
      ]
     },
     "execution_count": 18,
     "metadata": {},
     "output_type": "execute_result"
    }
   ],
   "source": [
    "model.fit(X_train,y_train)"
   ]
  },
  {
   "cell_type": "code",
   "execution_count": 19,
   "metadata": {},
   "outputs": [
    {
     "data": {
      "text/plain": [
       "array(['ring_close', 'index_close', 'index_close', 'middle_close',\n",
       "       'ring_close', 'allopen', 'allclose', 'allopen', 'index_close',\n",
       "       'allclose', 'ring_close', 'pinky_close', 'index_close', 'allopen',\n",
       "       'allopen', 'allclose', 'allopen', 'index_close', 'ring_close',\n",
       "       'index_close', 'allopen', 'ring_close', 'index_close', 'allopen',\n",
       "       'ring_close', 'ring_close', 'index_close', 'index_close',\n",
       "       'index_close', 'index_close', 'ring_close', 'allclose', 'allopen',\n",
       "       'allopen', 'pinky_close', 'allclose', 'pinky_close', 'ring_close',\n",
       "       'allopen', 'index_close', 'allopen', 'index_close', 'allclose',\n",
       "       'allclose', 'pinky_close', 'pinky_close', 'ring_close',\n",
       "       'index_close', 'index_close', 'allclose', 'pinky_close',\n",
       "       'ring_close', 'allopen', 'index_close', 'allopen', 'ring_close',\n",
       "       'allopen', 'index_close', 'allopen', 'index_close', 'index_close',\n",
       "       'pinky_close', 'allclose', 'index_close', 'allopen', 'index_close',\n",
       "       'index_close', 'index_close', 'index_close', 'allopen',\n",
       "       'index_close', 'ring_close', 'allopen', 'pinky_close',\n",
       "       'pinky_close', 'index_close', 'pinky_close', 'ring_close',\n",
       "       'allclose', 'allopen', 'allclose', 'middle_close', 'index_close',\n",
       "       'pinky_close', 'ring_close', 'pinky_close', 'index_close',\n",
       "       'allopen', 'index_close', 'ring_close', 'index_close', 'allopen',\n",
       "       'pinky_close', 'index_close', 'ring_close', 'allopen', 'allopen',\n",
       "       'index_close', 'index_close', 'ring_close', 'index_close',\n",
       "       'ring_close', 'index_close', 'index_close', 'index_close',\n",
       "       'index_close', 'ring_close', 'ring_close', 'allopen', 'ring_close',\n",
       "       'allopen', 'index_close', 'ring_close', 'allopen', 'index_close',\n",
       "       'allopen', 'allopen', 'allclose', 'ring_close', 'ring_close',\n",
       "       'allclose', 'index_close', 'index_close', 'allopen', 'ring_close',\n",
       "       'index_close', 'allclose', 'ring_close', 'allclose', 'pinky_close',\n",
       "       'pinky_close', 'ring_close', 'ring_close', 'allclose',\n",
       "       'index_close', 'ring_close', 'pinky_close', 'allclose', 'allopen',\n",
       "       'ring_close', 'pinky_close', 'pinky_close', 'pinky_close',\n",
       "       'ring_close', 'index_close', 'index_close', 'middle_close',\n",
       "       'allopen', 'allopen', 'allclose', 'pinky_close', 'pinky_close',\n",
       "       'pinky_close', 'ring_close', 'index_close', 'allopen',\n",
       "       'index_close', 'index_close', 'allopen', 'allopen', 'index_close',\n",
       "       'index_close', 'index_close', 'allclose', 'index_close',\n",
       "       'pinky_close', 'allclose', 'index_close', 'ring_close', 'allclose',\n",
       "       'index_close', 'index_close', 'index_close', 'ring_close',\n",
       "       'pinky_close', 'allclose', 'pinky_close', 'index_close',\n",
       "       'ring_close', 'allclose', 'ring_close', 'allclose', 'index_close',\n",
       "       'allopen', 'index_close', 'index_close', 'index_close', 'allopen',\n",
       "       'index_close', 'pinky_close', 'allclose', 'index_close',\n",
       "       'ring_close', 'ring_close', 'pinky_close', 'index_close',\n",
       "       'index_close', 'ring_close', 'allopen', 'index_close',\n",
       "       'index_close', 'ring_close', 'allopen', 'allclose', 'allopen',\n",
       "       'allopen', 'ring_close', 'allopen', 'pinky_close', 'ring_close',\n",
       "       'allclose', 'index_close', 'index_close', 'allclose', 'allopen',\n",
       "       'index_close', 'index_close', 'index_close', 'ring_close',\n",
       "       'allopen', 'allclose', 'index_close', 'index_close', 'allclose',\n",
       "       'index_close', 'ring_close', 'ring_close', 'ring_close',\n",
       "       'allclose', 'ring_close', 'middle_close', 'pinky_close',\n",
       "       'ring_close', 'pinky_close', 'ring_close', 'pinky_close',\n",
       "       'ring_close', 'index_close', 'index_close', 'allopen',\n",
       "       'index_close', 'allclose', 'index_close', 'allopen', 'pinky_close',\n",
       "       'ring_close', 'middle_close', 'allopen', 'allopen', 'ring_close',\n",
       "       'index_close', 'allclose', 'ring_close', 'allclose', 'allclose',\n",
       "       'index_close', 'index_close', 'allclose', 'middle_close',\n",
       "       'ring_close', 'ring_close', 'ring_close', 'ring_close', 'allopen',\n",
       "       'allopen', 'allopen', 'allopen', 'ring_close', 'allclose',\n",
       "       'ring_close', 'ring_close', 'pinky_close', 'index_close',\n",
       "       'allopen', 'ring_close', 'index_close', 'allclose', 'ring_close',\n",
       "       'allclose', 'ring_close', 'allopen', 'index_close', 'index_close',\n",
       "       'allopen', 'allopen', 'pinky_close', 'index_close', 'index_close',\n",
       "       'allopen', 'pinky_close', 'index_close', 'index_close', 'allopen',\n",
       "       'index_close', 'allopen', 'ring_close', 'allopen', 'middle_close',\n",
       "       'index_close', 'pinky_close', 'pinky_close', 'middle_close',\n",
       "       'allclose', 'pinky_close', 'ring_close', 'allopen', 'allclose',\n",
       "       'index_close', 'ring_close', 'ring_close', 'index_close',\n",
       "       'pinky_close', 'pinky_close', 'allopen', 'pinky_close', 'allopen',\n",
       "       'ring_close', 'allopen', 'pinky_close', 'index_close', 'allclose',\n",
       "       'ring_close', 'index_close', 'index_close', 'pinky_close',\n",
       "       'index_close', 'allclose', 'ring_close', 'index_close', 'allclose',\n",
       "       'allopen', 'index_close', 'allclose', 'allclose', 'allclose',\n",
       "       'index_close', 'allclose', 'allclose', 'index_close',\n",
       "       'index_close', 'allopen', 'allclose', 'allopen', 'allopen',\n",
       "       'index_close', 'allclose', 'allopen', 'middle_close', 'allclose',\n",
       "       'allopen', 'allopen', 'ring_close', 'allopen', 'ring_close',\n",
       "       'ring_close', 'allclose', 'allclose', 'allopen', 'ring_close',\n",
       "       'index_close', 'index_close', 'ring_close', 'allclose',\n",
       "       'ring_close', 'index_close', 'index_close', 'ring_close',\n",
       "       'allopen', 'allclose', 'index_close', 'pinky_close', 'allclose',\n",
       "       'allclose', 'ring_close', 'pinky_close', 'allclose', 'allclose',\n",
       "       'ring_close', 'allclose', 'allopen', 'allopen', 'allclose',\n",
       "       'index_close', 'allclose', 'ring_close', 'ring_close', 'allopen',\n",
       "       'ring_close', 'pinky_close', 'index_close', 'allclose',\n",
       "       'index_close', 'ring_close', 'ring_close', 'allopen', 'ring_close',\n",
       "       'ring_close', 'allopen', 'index_close', 'index_close',\n",
       "       'ring_close', 'ring_close', 'allclose', 'ring_close',\n",
       "       'index_close', 'allopen', 'allopen', 'pinky_close', 'pinky_close',\n",
       "       'index_close', 'index_close', 'middle_close', 'ring_close',\n",
       "       'allopen', 'pinky_close', 'allclose', 'ring_close', 'pinky_close',\n",
       "       'allclose', 'index_close', 'index_close', 'ring_close',\n",
       "       'index_close', 'index_close', 'index_close', 'ring_close',\n",
       "       'index_close', 'allclose', 'ring_close', 'allopen', 'index_close',\n",
       "       'index_close', 'ring_close', 'index_close', 'allopen', 'allopen',\n",
       "       'ring_close', 'allclose', 'allopen', 'index_close', 'ring_close',\n",
       "       'ring_close', 'index_close', 'index_close', 'ring_close',\n",
       "       'index_close', 'allclose', 'pinky_close', 'allclose', 'ring_close',\n",
       "       'index_close', 'allopen', 'allopen', 'ring_close', 'allopen',\n",
       "       'index_close', 'ring_close', 'allopen', 'allopen', 'index_close',\n",
       "       'index_close', 'allopen', 'middle_close', 'allopen', 'ring_close',\n",
       "       'ring_close', 'ring_close', 'index_close', 'allopen',\n",
       "       'index_close', 'index_close', 'pinky_close', 'allopen', 'allclose',\n",
       "       'index_close', 'index_close', 'allopen', 'allopen', 'allopen',\n",
       "       'pinky_close', 'ring_close', 'ring_close', 'ring_close',\n",
       "       'pinky_close', 'index_close', 'allopen', 'index_close',\n",
       "       'index_close', 'ring_close', 'index_close', 'index_close',\n",
       "       'index_close', 'pinky_close', 'allopen', 'ring_close',\n",
       "       'index_close', 'pinky_close', 'ring_close', 'ring_close',\n",
       "       'ring_close', 'allclose', 'index_close', 'allopen', 'allclose',\n",
       "       'ring_close', 'allclose', 'index_close', 'index_close', 'allopen',\n",
       "       'ring_close', 'allclose', 'index_close', 'allopen', 'index_close',\n",
       "       'allclose', 'allclose', 'ring_close', 'index_close',\n",
       "       'middle_close', 'allclose', 'index_close', 'ring_close',\n",
       "       'ring_close', 'ring_close', 'pinky_close', 'allopen', 'allopen',\n",
       "       'pinky_close', 'index_close', 'allclose', 'allopen', 'allclose',\n",
       "       'index_close', 'allclose', 'ring_close', 'index_close', 'allclose',\n",
       "       'allclose', 'index_close', 'allopen', 'allopen', 'index_close',\n",
       "       'index_close', 'pinky_close', 'index_close', 'ring_close',\n",
       "       'pinky_close', 'allclose', 'index_close', 'allopen', 'pinky_close',\n",
       "       'ring_close', 'index_close', 'index_close', 'pinky_close',\n",
       "       'allclose', 'index_close', 'pinky_close', 'pinky_close',\n",
       "       'allclose', 'middle_close', 'allopen', 'middle_close',\n",
       "       'pinky_close', 'index_close', 'ring_close', 'ring_close',\n",
       "       'ring_close', 'index_close', 'allopen', 'ring_close',\n",
       "       'pinky_close', 'ring_close', 'pinky_close', 'index_close',\n",
       "       'allclose', 'allopen', 'ring_close', 'index_close', 'ring_close',\n",
       "       'allopen', 'index_close', 'ring_close', 'index_close',\n",
       "       'pinky_close', 'ring_close', 'allclose', 'ring_close',\n",
       "       'index_close', 'allopen', 'ring_close', 'ring_close',\n",
       "       'index_close', 'allclose', 'pinky_close', 'index_close',\n",
       "       'ring_close', 'allclose', 'index_close', 'allclose'], dtype='<U12')"
      ]
     },
     "execution_count": 19,
     "metadata": {},
     "output_type": "execute_result"
    }
   ],
   "source": [
    "model.predict(X_test)"
   ]
  },
  {
   "cell_type": "code",
   "execution_count": 20,
   "metadata": {},
   "outputs": [
    {
     "data": {
      "text/plain": [
       "array([[ 32,  32,  32,  30,  30],\n",
       "       [ 18,  18,  18,  18,  18],\n",
       "       [ 20,  20,  20,  18,  18],\n",
       "       ...,\n",
       "       [118, 118, 118, 118, 118],\n",
       "       [ 22,  22,  22,  22,  22],\n",
       "       [110, 110, 110, 108, 108]], dtype=int64)"
      ]
     },
     "execution_count": 20,
     "metadata": {},
     "output_type": "execute_result"
    }
   ],
   "source": [
    "X_test"
   ]
  },
  {
   "cell_type": "code",
   "execution_count": 21,
   "metadata": {},
   "outputs": [
    {
     "data": {
      "text/plain": [
       "0.6533333333333333"
      ]
     },
     "execution_count": 21,
     "metadata": {},
     "output_type": "execute_result"
    }
   ],
   "source": [
    "model.score(X_test,y_test)"
   ]
  },
  {
   "cell_type": "code",
   "execution_count": 24,
   "metadata": {},
   "outputs": [
    {
     "data": {
      "text/plain": [
       "array(['ring_close'], dtype='<U12')"
      ]
     },
     "execution_count": 24,
     "metadata": {},
     "output_type": "execute_result"
    }
   ],
   "source": [
    "model.predict([[32,  32,  32,  30,  30]])"
   ]
  }
 ],
 "metadata": {
  "kernelspec": {
   "display_name": "Python 3",
   "language": "python",
   "name": "python3"
  },
  "language_info": {
   "codemirror_mode": {
    "name": "ipython",
    "version": 3
   },
   "file_extension": ".py",
   "mimetype": "text/x-python",
   "name": "python",
   "nbconvert_exporter": "python",
   "pygments_lexer": "ipython3",
   "version": "3.11.3"
  }
 },
 "nbformat": 4,
 "nbformat_minor": 2
}
