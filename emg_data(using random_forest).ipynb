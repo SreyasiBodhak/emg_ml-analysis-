{
 "cells": [
  {
   "cell_type": "code",
   "execution_count": 25,
   "metadata": {},
   "outputs": [],
   "source": [
    "import pandas as pd\n",
    "import seaborn as sns\n",
    "import numpy as np\n",
    "import matplotlib.pyplot as plt"
   ]
  },
  {
   "cell_type": "code",
   "execution_count": 26,
   "metadata": {},
   "outputs": [
    {
     "name": "stdout",
     "output_type": "stream",
     "text": [
      "(2999, 6)\n"
     ]
    }
   ],
   "source": [
    "data = pd.read_excel(r\"D:\\ML\\emg_dataset.xlsx\")\n",
    "print(data.shape)"
   ]
  },
  {
   "cell_type": "code",
   "execution_count": 27,
   "metadata": {},
   "outputs": [
    {
     "data": {
      "text/html": [
       "<div>\n",
       "<style scoped>\n",
       "    .dataframe tbody tr th:only-of-type {\n",
       "        vertical-align: middle;\n",
       "    }\n",
       "\n",
       "    .dataframe tbody tr th {\n",
       "        vertical-align: top;\n",
       "    }\n",
       "\n",
       "    .dataframe thead th {\n",
       "        text-align: right;\n",
       "    }\n",
       "</style>\n",
       "<table border=\"1\" class=\"dataframe\">\n",
       "  <thead>\n",
       "    <tr style=\"text-align: right;\">\n",
       "      <th></th>\n",
       "      <th>emg1</th>\n",
       "      <th>emg2</th>\n",
       "      <th>emg3</th>\n",
       "      <th>emg4</th>\n",
       "      <th>emg5</th>\n",
       "      <th>output</th>\n",
       "    </tr>\n",
       "  </thead>\n",
       "  <tbody>\n",
       "    <tr>\n",
       "      <th>0</th>\n",
       "      <td>152</td>\n",
       "      <td>152</td>\n",
       "      <td>150</td>\n",
       "      <td>150</td>\n",
       "      <td>150</td>\n",
       "      <td>allclose</td>\n",
       "    </tr>\n",
       "    <tr>\n",
       "      <th>1</th>\n",
       "      <td>148</td>\n",
       "      <td>148</td>\n",
       "      <td>146</td>\n",
       "      <td>146</td>\n",
       "      <td>144</td>\n",
       "      <td>allclose</td>\n",
       "    </tr>\n",
       "    <tr>\n",
       "      <th>2</th>\n",
       "      <td>142</td>\n",
       "      <td>140</td>\n",
       "      <td>140</td>\n",
       "      <td>138</td>\n",
       "      <td>136</td>\n",
       "      <td>allclose</td>\n",
       "    </tr>\n",
       "    <tr>\n",
       "      <th>3</th>\n",
       "      <td>136</td>\n",
       "      <td>136</td>\n",
       "      <td>134</td>\n",
       "      <td>132</td>\n",
       "      <td>132</td>\n",
       "      <td>allclose</td>\n",
       "    </tr>\n",
       "    <tr>\n",
       "      <th>4</th>\n",
       "      <td>128</td>\n",
       "      <td>128</td>\n",
       "      <td>128</td>\n",
       "      <td>128</td>\n",
       "      <td>128</td>\n",
       "      <td>allclose</td>\n",
       "    </tr>\n",
       "  </tbody>\n",
       "</table>\n",
       "</div>"
      ],
      "text/plain": [
       "   emg1  emg2  emg3  emg4  emg5    output\n",
       "0   152   152   150   150   150  allclose\n",
       "1   148   148   146   146   144  allclose\n",
       "2   142   140   140   138   136  allclose\n",
       "3   136   136   134   132   132  allclose\n",
       "4   128   128   128   128   128  allclose"
      ]
     },
     "execution_count": 27,
     "metadata": {},
     "output_type": "execute_result"
    }
   ],
   "source": [
    "data.head()"
   ]
  },
  {
   "cell_type": "code",
   "execution_count": 28,
   "metadata": {},
   "outputs": [
    {
     "data": {
      "text/plain": [
       "output\n",
       "allclose        500\n",
       "allopen         500\n",
       "index_close     500\n",
       "middle_close    500\n",
       "pinky_close     500\n",
       "ring_close      499\n",
       "Name: count, dtype: int64"
      ]
     },
     "execution_count": 28,
     "metadata": {},
     "output_type": "execute_result"
    }
   ],
   "source": [
    "data[\"output\"].value_counts()"
   ]
  },
  {
   "cell_type": "code",
   "execution_count": 29,
   "metadata": {},
   "outputs": [
    {
     "data": {
      "image/png": "[encoded data removed]",
      "text/plain": [
       "<Figure size 640x480 with 1 Axes>"
      ]
     },
     "metadata": {},
     "output_type": "display_data"
    }
   ],
   "source": [
    "sns.countplot(data[\"output\"])\n",
    "plt.xlabel(\"output\")\n",
    "plt.ylabel(\"count of output\")\n",
    "plt.title(\"target variable coutplot\")\n",
    "plt.show()"
   ]
  },
  {
   "cell_type": "code",
   "execution_count": 30,
   "metadata": {},
   "outputs": [],
   "source": [
    "X=data.iloc[:,[0,1,2,3,4]].values\n",
    "y=data.iloc[:,-1].values"
   ]
  },
  {
   "cell_type": "code",
   "execution_count": 31,
   "metadata": {},
   "outputs": [],
   "source": [
    "from sklearn.model_selection import train_test_split\n",
    "X_train,X_test,y_train,y_test=train_test_split(X,y,random_state=99)"
   ]
  },
  {
   "cell_type": "code",
   "execution_count": 32,
   "metadata": {},
   "outputs": [
    {
     "data": {
      "text/html": [
       "<style>#sk-container-id-1 {color: black;}#sk-container-id-1 pre{padding: 0;}#sk-container-id-1 div.sk-toggleable {background-color: white;}#sk-container-id-1 label.sk-toggleable__label {cursor: pointer;display: block;width: 100%;margin-bottom: 0;padding: 0.3em;box-sizing: border-box;text-align: center;}#sk-container-id-1 label.sk-toggleable__label-arrow:before {content: \"▸\";float: left;margin-right: 0.25em;color: #696969;}#sk-container-id-1 label.sk-toggleable__label-arrow:hover:before {color: black;}#sk-container-id-1 div.sk-estimator:hover label.sk-toggleable__label-arrow:before {color: black;}#sk-container-id-1 div.sk-toggleable__content {max-height: 0;max-width: 0;overflow: hidden;text-align: left;background-color: #f0f8ff;}#sk-container-id-1 div.sk-toggleable__content pre {margin: 0.2em;color: black;border-radius: 0.25em;background-color: #f0f8ff;}#sk-container-id-1 input.sk-toggleable__control:checked~div.sk-toggleable__content {max-height: 200px;max-width: 100%;overflow: auto;}#sk-container-id-1 input.sk-toggleable__control:checked~label.sk-toggleable__label-arrow:before {content: \"▾\";}#sk-container-id-1 div.sk-estimator input.sk-toggleable__control:checked~label.sk-toggleable__label {background-color: #d4ebff;}#sk-container-id-1 div.sk-label input.sk-toggleable__control:checked~label.sk-toggleable__label {background-color: #d4ebff;}#sk-container-id-1 input.sk-hidden--visually {border: 0;clip: rect(1px 1px 1px 1px);clip: rect(1px, 1px, 1px, 1px);height: 1px;margin: -1px;overflow: hidden;padding: 0;position: absolute;width: 1px;}#sk-container-id-1 div.sk-estimator {font-family: monospace;background-color: #f0f8ff;border: 1px dotted black;border-radius: 0.25em;box-sizing: border-box;margin-bottom: 0.5em;}#sk-container-id-1 div.sk-estimator:hover {background-color: #d4ebff;}#sk-container-id-1 div.sk-parallel-item::after {content: \"\";width: 100%;border-bottom: 1px solid gray;flex-grow: 1;}#sk-container-id-1 div.sk-label:hover label.sk-toggleable__label {background-color: #d4ebff;}#sk-container-id-1 div.sk-serial::before {content: \"\";position: absolute;border-left: 1px solid gray;box-sizing: border-box;top: 0;bottom: 0;left: 50%;z-index: 0;}#sk-container-id-1 div.sk-serial {display: flex;flex-direction: column;align-items: center;background-color: white;padding-right: 0.2em;padding-left: 0.2em;position: relative;}#sk-container-id-1 div.sk-item {position: relative;z-index: 1;}#sk-container-id-1 div.sk-parallel {display: flex;align-items: stretch;justify-content: center;background-color: white;position: relative;}#sk-container-id-1 div.sk-item::before, #sk-container-id-1 div.sk-parallel-item::before {content: \"\";position: absolute;border-left: 1px solid gray;box-sizing: border-box;top: 0;bottom: 0;left: 50%;z-index: -1;}#sk-container-id-1 div.sk-parallel-item {display: flex;flex-direction: column;z-index: 1;position: relative;background-color: white;}#sk-container-id-1 div.sk-parallel-item:first-child::after {align-self: flex-end;width: 50%;}#sk-container-id-1 div.sk-parallel-item:last-child::after {align-self: flex-start;width: 50%;}#sk-container-id-1 div.sk-parallel-item:only-child::after {width: 0;}#sk-container-id-1 div.sk-dashed-wrapped {border: 1px dashed gray;margin: 0 0.4em 0.5em 0.4em;box-sizing: border-box;padding-bottom: 0.4em;background-color: white;}#sk-container-id-1 div.sk-label label {font-family: monospace;font-weight: bold;display: inline-block;line-height: 1.2em;}#sk-container-id-1 div.sk-label-container {text-align: center;}#sk-container-id-1 div.sk-container {/* jupyter's `normalize.less` sets `[hidden] { display: none; }` but bootstrap.min.css set `[hidden] { display: none !important; }` so we also need the `!important` here to be able to override the default hidden behavior on the sphinx rendered scikit-learn.org. See: https://github.com/scikit-learn/scikit-learn/issues/21755 */display: inline-block !important;position: relative;}#sk-container-id-1 div.sk-text-repr-fallback {display: none;}</style><div id=\"sk-container-id-1\" class=\"sk-top-container\"><div class=\"sk-text-repr-fallback\"><pre>RandomForestClassifier(max_depth=8, min_samples_split=10, random_state=5)</pre><b>In a Jupyter environment, please rerun this cell to show the HTML representation or trust the notebook. <br />On GitHub, the HTML representation is unable to render, please try loading this page with nbviewer.org.</b></div><div class=\"sk-container\" hidden><div class=\"sk-item\"><div class=\"sk-estimator sk-toggleable\"><input class=\"sk-toggleable__control sk-hidden--visually\" id=\"sk-estimator-id-1\" type=\"checkbox\" checked><label for=\"sk-estimator-id-1\" class=\"sk-toggleable__label sk-toggleable__label-arrow\">RandomForestClassifier</label><div class=\"sk-toggleable__content\"><pre>RandomForestClassifier(max_depth=8, min_samples_split=10, random_state=5)</pre></div></div></div></div></div>"
      ],
      "text/plain": [
       "RandomForestClassifier(max_depth=8, min_samples_split=10, random_state=5)"
      ]
     },
     "execution_count": 32,
     "metadata": {},
     "output_type": "execute_result"
    }
   ],
   "source": [
    "from sklearn.ensemble import RandomForestClassifier\n",
    "model = RandomForestClassifier(criterion=\"gini\",max_depth=8,min_samples_split=10,random_state=5)\n",
    "model.fit(X_train, y_train)"
   ]
  },
  {
   "cell_type": "code",
   "execution_count": 33,
   "metadata": {},
   "outputs": [
    {
     "data": {
      "text/plain": [
       "array([0.23170302, 0.16112254, 0.19786321, 0.22147723, 0.18783399])"
      ]
     },
     "execution_count": 33,
     "metadata": {},
     "output_type": "execute_result"
    }
   ],
   "source": [
    "model.feature_importances_"
   ]
  },
  {
   "cell_type": "code",
   "execution_count": 34,
   "metadata": {},
   "outputs": [],
   "source": [
    "y_pred=model.predict(X_test)"
   ]
  },
  {
   "cell_type": "code",
   "execution_count": 35,
   "metadata": {},
   "outputs": [
    {
     "data": {
      "text/plain": [
       "array(['allclose', 'allopen', 'allopen', 'allclose', 'ring_close',\n",
       "       'ring_close', 'pinky_close', 'index_close', 'index_close',\n",
       "       'allopen', 'allclose', 'index_close', 'index_close', 'allopen',\n",
       "       'index_close', 'allopen', 'allopen', 'allclose', 'ring_close',\n",
       "       'allclose', 'index_close', 'allopen', 'pinky_close', 'allclose',\n",
       "       'allopen', 'pinky_close', 'middle_close', 'ring_close', 'allopen',\n",
       "       'pinky_close', 'pinky_close', 'pinky_close', 'allopen',\n",
       "       'index_close', 'pinky_close', 'allclose', 'pinky_close',\n",
       "       'allclose', 'index_close', 'index_close', 'index_close',\n",
       "       'index_close', 'ring_close', 'pinky_close', 'allclose',\n",
       "       'pinky_close', 'ring_close', 'index_close', 'pinky_close',\n",
       "       'allclose', 'pinky_close', 'index_close', 'index_close',\n",
       "       'allclose', 'ring_close', 'index_close', 'index_close', 'allopen',\n",
       "       'allclose', 'allopen', 'index_close', 'allclose', 'allclose',\n",
       "       'allopen', 'index_close', 'allopen', 'allclose', 'pinky_close',\n",
       "       'index_close', 'allclose', 'ring_close', 'allopen', 'allopen',\n",
       "       'allopen', 'ring_close', 'index_close', 'allclose', 'index_close',\n",
       "       'index_close', 'ring_close', 'ring_close', 'pinky_close',\n",
       "       'allclose', 'index_close', 'ring_close', 'index_close', 'allopen',\n",
       "       'allopen', 'ring_close', 'pinky_close', 'ring_close', 'allclose',\n",
       "       'allclose', 'ring_close', 'ring_close', 'index_close',\n",
       "       'pinky_close', 'ring_close', 'allopen', 'index_close',\n",
       "       'ring_close', 'allclose', 'allclose', 'pinky_close', 'ring_close',\n",
       "       'allclose', 'allopen', 'ring_close', 'index_close', 'ring_close',\n",
       "       'allopen', 'ring_close', 'allopen', 'index_close', 'allclose',\n",
       "       'allclose', 'ring_close', 'index_close', 'index_close', 'allopen',\n",
       "       'allopen', 'pinky_close', 'allopen', 'index_close', 'allclose',\n",
       "       'allopen', 'allopen', 'index_close', 'pinky_close', 'allclose',\n",
       "       'index_close', 'allclose', 'allopen', 'index_close', 'allopen',\n",
       "       'index_close', 'allclose', 'ring_close', 'allopen', 'pinky_close',\n",
       "       'allopen', 'allclose', 'ring_close', 'pinky_close', 'pinky_close',\n",
       "       'index_close', 'index_close', 'allopen', 'allopen', 'index_close',\n",
       "       'index_close', 'allclose', 'allopen', 'allclose', 'index_close',\n",
       "       'index_close', 'pinky_close', 'pinky_close', 'index_close',\n",
       "       'index_close', 'allopen', 'pinky_close', 'index_close',\n",
       "       'pinky_close', 'pinky_close', 'allopen', 'index_close',\n",
       "       'index_close', 'index_close', 'allclose', 'index_close',\n",
       "       'allclose', 'ring_close', 'allopen', 'allopen', 'allclose',\n",
       "       'allclose', 'index_close', 'ring_close', 'index_close',\n",
       "       'ring_close', 'allclose', 'allopen', 'index_close', 'allopen',\n",
       "       'allclose', 'pinky_close', 'allclose', 'allopen', 'pinky_close',\n",
       "       'index_close', 'middle_close', 'allopen', 'index_close',\n",
       "       'pinky_close', 'allopen', 'ring_close', 'allclose', 'ring_close',\n",
       "       'pinky_close', 'pinky_close', 'ring_close', 'index_close',\n",
       "       'allclose', 'allclose', 'pinky_close', 'pinky_close',\n",
       "       'index_close', 'index_close', 'allopen', 'index_close',\n",
       "       'pinky_close', 'index_close', 'index_close', 'ring_close',\n",
       "       'allopen', 'allclose', 'ring_close', 'ring_close', 'ring_close',\n",
       "       'index_close', 'pinky_close', 'index_close', 'allclose',\n",
       "       'pinky_close', 'index_close', 'pinky_close', 'allopen', 'allopen',\n",
       "       'ring_close', 'allclose', 'allopen', 'ring_close', 'index_close',\n",
       "       'allclose', 'index_close', 'pinky_close', 'allopen', 'index_close',\n",
       "       'index_close', 'allopen', 'allclose', 'pinky_close', 'index_close',\n",
       "       'allclose', 'allopen', 'index_close', 'allopen', 'allopen',\n",
       "       'ring_close', 'pinky_close', 'pinky_close', 'index_close',\n",
       "       'middle_close', 'pinky_close', 'index_close', 'allclose',\n",
       "       'allclose', 'allopen', 'index_close', 'ring_close', 'index_close',\n",
       "       'allopen', 'index_close', 'allclose', 'index_close', 'allopen',\n",
       "       'ring_close', 'pinky_close', 'allclose', 'allopen', 'allopen',\n",
       "       'allclose', 'ring_close', 'allopen', 'ring_close', 'allclose',\n",
       "       'allclose', 'middle_close', 'index_close', 'index_close',\n",
       "       'allopen', 'index_close', 'pinky_close', 'pinky_close', 'allclose',\n",
       "       'allopen', 'ring_close', 'ring_close', 'pinky_close',\n",
       "       'index_close', 'index_close', 'ring_close', 'allopen',\n",
       "       'pinky_close', 'allopen', 'ring_close', 'index_close', 'allclose',\n",
       "       'ring_close', 'allopen', 'allopen', 'index_close', 'allopen',\n",
       "       'index_close', 'allopen', 'allopen', 'ring_close', 'index_close',\n",
       "       'index_close', 'index_close', 'allopen', 'index_close', 'allopen',\n",
       "       'allclose', 'allclose', 'allopen', 'allclose', 'allclose',\n",
       "       'allopen', 'index_close', 'allopen', 'allopen', 'allopen',\n",
       "       'allopen', 'allopen', 'index_close', 'index_close', 'allopen',\n",
       "       'index_close', 'index_close', 'allopen', 'pinky_close', 'allopen',\n",
       "       'ring_close', 'allopen', 'pinky_close', 'allclose', 'allclose',\n",
       "       'allopen', 'allopen', 'allopen', 'allclose', 'index_close',\n",
       "       'pinky_close', 'index_close', 'allopen', 'index_close',\n",
       "       'pinky_close', 'pinky_close', 'ring_close', 'allclose',\n",
       "       'index_close', 'allopen', 'ring_close', 'index_close',\n",
       "       'index_close', 'index_close', 'pinky_close', 'allclose', 'allopen',\n",
       "       'pinky_close', 'pinky_close', 'ring_close', 'allopen',\n",
       "       'ring_close', 'ring_close', 'allclose', 'allopen', 'pinky_close',\n",
       "       'index_close', 'index_close', 'ring_close', 'index_close',\n",
       "       'pinky_close', 'ring_close', 'allopen', 'index_close', 'allclose',\n",
       "       'ring_close', 'index_close', 'ring_close', 'ring_close',\n",
       "       'index_close', 'ring_close', 'allclose', 'ring_close',\n",
       "       'index_close', 'allopen', 'index_close', 'allclose', 'allopen',\n",
       "       'pinky_close', 'index_close', 'ring_close', 'pinky_close',\n",
       "       'ring_close', 'ring_close', 'ring_close', 'allclose',\n",
       "       'index_close', 'index_close', 'ring_close', 'ring_close',\n",
       "       'index_close', 'ring_close', 'index_close', 'allclose',\n",
       "       'index_close', 'index_close', 'allclose', 'pinky_close',\n",
       "       'ring_close', 'allopen', 'index_close', 'allclose', 'allclose',\n",
       "       'allopen', 'ring_close', 'ring_close', 'index_close', 'allopen',\n",
       "       'allopen', 'middle_close', 'pinky_close', 'ring_close',\n",
       "       'pinky_close', 'allopen', 'pinky_close', 'ring_close', 'allopen',\n",
       "       'index_close', 'ring_close', 'ring_close', 'pinky_close',\n",
       "       'pinky_close', 'index_close', 'index_close', 'pinky_close',\n",
       "       'allopen', 'ring_close', 'allopen', 'allclose', 'ring_close',\n",
       "       'ring_close', 'allclose', 'allopen', 'allclose', 'index_close',\n",
       "       'ring_close', 'pinky_close', 'index_close', 'allopen',\n",
       "       'index_close', 'ring_close', 'index_close', 'pinky_close',\n",
       "       'allopen', 'allopen', 'ring_close', 'allclose', 'index_close',\n",
       "       'ring_close', 'pinky_close', 'index_close', 'allclose',\n",
       "       'middle_close', 'middle_close', 'allclose', 'allopen', 'allclose',\n",
       "       'middle_close', 'allclose', 'pinky_close', 'allclose',\n",
       "       'ring_close', 'index_close', 'ring_close', 'index_close',\n",
       "       'index_close', 'ring_close', 'index_close', 'index_close',\n",
       "       'allopen', 'allopen', 'ring_close', 'index_close', 'pinky_close',\n",
       "       'pinky_close', 'index_close', 'ring_close', 'ring_close',\n",
       "       'index_close', 'pinky_close', 'allopen', 'allopen', 'ring_close',\n",
       "       'ring_close', 'middle_close', 'allclose', 'allopen', 'allclose',\n",
       "       'allopen', 'ring_close', 'ring_close', 'ring_close', 'pinky_close',\n",
       "       'index_close', 'allclose', 'allclose', 'allopen', 'allopen',\n",
       "       'ring_close', 'pinky_close', 'allclose', 'allopen', 'allopen',\n",
       "       'ring_close', 'allopen', 'allclose', 'allopen', 'index_close',\n",
       "       'ring_close', 'ring_close', 'pinky_close', 'middle_close',\n",
       "       'middle_close', 'ring_close', 'pinky_close', 'allopen',\n",
       "       'pinky_close', 'index_close', 'index_close', 'ring_close',\n",
       "       'index_close', 'pinky_close', 'allclose', 'allclose',\n",
       "       'pinky_close', 'index_close', 'allopen', 'ring_close', 'allclose',\n",
       "       'index_close', 'index_close', 'ring_close', 'index_close',\n",
       "       'pinky_close', 'allclose', 'allopen', 'index_close', 'ring_close',\n",
       "       'allclose', 'allopen', 'allopen', 'allopen', 'allopen', 'allopen',\n",
       "       'ring_close', 'index_close', 'index_close', 'allopen', 'allopen',\n",
       "       'index_close', 'pinky_close', 'allopen', 'index_close',\n",
       "       'index_close', 'ring_close', 'index_close', 'index_close',\n",
       "       'ring_close', 'allopen', 'allopen', 'pinky_close', 'allopen',\n",
       "       'ring_close', 'index_close', 'allopen', 'ring_close',\n",
       "       'index_close', 'index_close', 'ring_close', 'allclose',\n",
       "       'pinky_close', 'index_close', 'pinky_close', 'pinky_close',\n",
       "       'allopen', 'allclose', 'index_close', 'index_close', 'ring_close',\n",
       "       'allopen', 'allclose', 'middle_close', 'pinky_close', 'allopen',\n",
       "       'index_close', 'pinky_close', 'allclose', 'allopen', 'ring_close',\n",
       "       'pinky_close', 'allopen', 'allclose', 'ring_close', 'ring_close',\n",
       "       'allclose', 'pinky_close', 'ring_close', 'ring_close',\n",
       "       'index_close', 'pinky_close', 'allopen', 'allopen', 'pinky_close',\n",
       "       'allclose', 'allclose', 'index_close', 'allopen', 'index_close',\n",
       "       'allclose', 'index_close', 'allopen', 'pinky_close', 'index_close',\n",
       "       'ring_close', 'allclose', 'allclose', 'allopen', 'allopen',\n",
       "       'pinky_close', 'index_close', 'allopen', 'ring_close',\n",
       "       'ring_close', 'ring_close', 'allopen', 'index_close', 'ring_close',\n",
       "       'pinky_close', 'ring_close', 'allopen', 'index_close', 'allopen',\n",
       "       'pinky_close', 'pinky_close', 'index_close', 'ring_close',\n",
       "       'pinky_close', 'index_close', 'ring_close', 'ring_close',\n",
       "       'index_close', 'index_close', 'ring_close', 'allopen', 'allclose',\n",
       "       'index_close', 'index_close', 'ring_close', 'allclose',\n",
       "       'index_close', 'index_close', 'allclose', 'index_close',\n",
       "       'allclose', 'index_close', 'ring_close', 'pinky_close',\n",
       "       'ring_close', 'pinky_close', 'allopen', 'allopen', 'index_close',\n",
       "       'ring_close', 'allopen', 'allclose', 'ring_close', 'allclose',\n",
       "       'allopen', 'pinky_close', 'allopen', 'index_close', 'allopen',\n",
       "       'ring_close', 'allclose', 'allopen', 'allopen', 'ring_close',\n",
       "       'index_close', 'pinky_close', 'allopen', 'allopen', 'index_close',\n",
       "       'allopen', 'allclose', 'index_close', 'pinky_close', 'pinky_close',\n",
       "       'index_close', 'index_close', 'allclose', 'allopen', 'allclose',\n",
       "       'index_close', 'allclose', 'ring_close', 'allclose', 'allclose',\n",
       "       'allopen', 'ring_close', 'pinky_close', 'allclose', 'pinky_close',\n",
       "       'allopen', 'allopen', 'allopen', 'index_close', 'allclose',\n",
       "       'index_close', 'pinky_close', 'ring_close', 'ring_close',\n",
       "       'allclose', 'allclose', 'allopen', 'allclose', 'index_close',\n",
       "       'ring_close', 'ring_close', 'allclose', 'pinky_close',\n",
       "       'index_close', 'allopen', 'allopen', 'ring_close', 'index_close',\n",
       "       'pinky_close', 'pinky_close', 'allclose', 'pinky_close',\n",
       "       'index_close', 'index_close', 'pinky_close', 'index_close',\n",
       "       'ring_close', 'index_close', 'ring_close'], dtype=object)"
      ]
     },
     "execution_count": 35,
     "metadata": {},
     "output_type": "execute_result"
    }
   ],
   "source": [
    "y_pred"
   ]
  },
  {
   "cell_type": "code",
   "execution_count": 37,
   "metadata": {},
   "outputs": [
    {
     "data": {
      "text/plain": [
       "array([[123,   0,   0,   0,   0,   0],\n",
       "       [  0, 137,   0,   0,   3,   0],\n",
       "       [  0,   0,  88,   0,  17,   0],\n",
       "       [  3,   5,  29,   8,  36,  48],\n",
       "       [  0,  26,  49,   0,  43,   5],\n",
       "       [  0,   0,  25,   4,  14,  87]], dtype=int64)"
      ]
     },
     "execution_count": 37,
     "metadata": {},
     "output_type": "execute_result"
    }
   ],
   "source": [
    "from sklearn.metrics import confusion_matrix\n",
    "confusion_matrix(y_test,y_pred)"
   ]
  },
  {
   "cell_type": "code",
   "execution_count": 38,
   "metadata": {},
   "outputs": [
    {
     "data": {
      "text/plain": [
       "0.648"
      ]
     },
     "execution_count": 38,
     "metadata": {},
     "output_type": "execute_result"
    }
   ],
   "source": [
    "from sklearn.metrics import accuracy_score\n",
    "accuracy_score(y_test,y_pred)"
   ]
  },
  {
   "cell_type": "code",
   "execution_count": 40,
   "metadata": {},
   "outputs": [
    {
     "data": {
      "text/plain": [
       "array([0.6460177 , 0.63716814, 0.69026549, 0.65486726, 0.66371681,\n",
       "       0.59292035, 0.66371681, 0.65486726, 0.67256637, 0.58035714,\n",
       "       0.64285714, 0.66964286, 0.66071429, 0.66964286, 0.64285714,\n",
       "       0.64285714, 0.63392857, 0.64285714, 0.70535714, 0.66071429])"
      ]
     },
     "execution_count": 40,
     "metadata": {},
     "output_type": "execute_result"
    }
   ],
   "source": [
    "from sklearn.model_selection import cross_val_score\n",
    "cross_val_score(model,X_train,y_train,cv=20)"
   ]
  }
 ],
 "metadata": {
  "kernelspec": {
   "display_name": "Python 3",
   "language": "python",
   "name": "python3"
  },
  "language_info": {
   "codemirror_mode": {
    "name": "ipython",
    "version": 3
   },
   "file_extension": ".py",
   "mimetype": "text/x-python",
   "name": "python",
   "nbconvert_exporter": "python",
   "pygments_lexer": "ipython3",
   "version": "3.11.3"
  }
 },
 "nbformat": 4,
 "nbformat_minor": 2
}
